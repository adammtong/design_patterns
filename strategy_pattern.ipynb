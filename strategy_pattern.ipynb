{
 "cells": [
  {
   "cell_type": "markdown",
   "metadata": {},
   "source": [
    "**Design Patterns in Python**"
   ]
  },
  {
   "cell_type": "markdown",
   "metadata": {},
   "source": [
    "**Strategy Pattern**\n",
    "\n",
    "The strategy pattern is a design pattern which enables the algorithm used to be selected at run time. The strategy pattern provides a placeholder for the function to be called, but the implementation details are delegated to outside of the calling client; allowing for independence and flexibility of the development of the algorithms.\n",
    "\n",
    "The strategy pattern can be applied to a family of similar algorithms, for example: if we require our application to have some functionality, `write()`, which will write results to various output formats. We could have multiple methods for each type of write we require:\n",
    "\n",
    "* `write_csv()`\n",
    "* `write_xlsx()`\n",
    "* `write_database()`\n",
    "\n",
    "we could define the following class and methods:"
   ]
  },
  {
   "cell_type": "code",
   "execution_count": 105,
   "metadata": {
    "collapsed": true
   },
   "outputs": [],
   "source": [
    "''' define our application which we wish to write results from'''\n",
    "class someApplication(object):\n",
    "    def __init__(self, data_to_write):\n",
    "        self.data = data_to_write\n",
    "        \n",
    "    ''' define write_csv '''\n",
    "    def write_csv(self):\n",
    "        print(\"writing \" + self.data + \" to csv...\")\n",
    "\n",
    "    ''' define write_xlsx '''\n",
    "    def write_xlsx(self):\n",
    "        print(\"writing \" + self.data + \" to xlsx...\")\n",
    "\n",
    "    ''' define write_database '''\n",
    "    def write_database(self):\n",
    "        print(\"writing \" + self.data + \" to database...\")\n"
   ]
  },
  {
   "cell_type": "code",
   "execution_count": 106,
   "metadata": {},
   "outputs": [
    {
     "name": "stdout",
     "output_type": "stream",
     "text": [
      "writing important data to csv...\n",
      "writing important data to xlsx...\n",
      "writing important data to database...\n"
     ]
    }
   ],
   "source": [
    "application = someApplication(\"important data\")\n",
    "application.write_csv()\n",
    "application.write_xlsx()\n",
    "application.write_database()"
   ]
  },
  {
   "cell_type": "markdown",
   "metadata": {},
   "source": [
    "This works fine, however if we were too add more `write_*()` methods, we would need to alter our `someApplication` class; our methods and class are tightly bound. Instead, we can define a generic `write()` method in our class and pass in the required `write_*()` functions at run time when required:"
   ]
  },
  {
   "cell_type": "code",
   "execution_count": 107,
   "metadata": {},
   "outputs": [],
   "source": [
    "''' define our application which we wish to write results from'''\n",
    "class someApplication(object):\n",
    "    def __init__(self, data_to_write):\n",
    "        self.data = data_to_write\n",
    "            \n",
    "    def write(self, write_strategy):\n",
    "        write_strategy(self)\n",
    "        \n",
    "''' define write_csv '''\n",
    "def write_csv(application):\n",
    "    print(\"writing \" + application.data + \" to csv...\")\n",
    "    \n",
    "''' define write_xlsx '''\n",
    "def write_xlsx(application):\n",
    "    print(\"writing \" + application.data + \" to xlsx...\")\n",
    "    \n",
    "''' define write_database '''\n",
    "def write_database(application):\n",
    "    print(\"writing \" + application.data + \" to database...\")"
   ]
  },
  {
   "cell_type": "code",
   "execution_count": 109,
   "metadata": {},
   "outputs": [
    {
     "name": "stdout",
     "output_type": "stream",
     "text": [
      "writing important data to csv...\n",
      "writing important data to xlsx...\n",
      "writing important data to database...\n"
     ]
    }
   ],
   "source": [
    "application = someApplication(\"important data\")\n",
    "application.write(write_csv)\n",
    "application.write(write_xlsx)\n",
    "application.write(write_database)"
   ]
  },
  {
   "cell_type": "markdown",
   "metadata": {},
   "source": [
    "Notice how the `write_*()` functions are decoupled from the class definition so that now if we require to add additional `write_*()` functionality to our application, we are free to do so without needing to touch the `someApplication` class. This is the essence of the stratey design pattern, which allows our code to be open to extension but closed to modification (of the class), also known as the **O** in S**O**LID principles of object oriented programming."
   ]
  }
 ],
 "metadata": {
  "kernelspec": {
   "display_name": "Python 2",
   "language": "python",
   "name": "python2"
  },
  "language_info": {
   "codemirror_mode": {
    "name": "ipython",
    "version": 2
   },
   "file_extension": ".py",
   "mimetype": "text/x-python",
   "name": "python",
   "nbconvert_exporter": "python",
   "pygments_lexer": "ipython2",
   "version": "2.7.14"
  }
 },
 "nbformat": 4,
 "nbformat_minor": 2
}
