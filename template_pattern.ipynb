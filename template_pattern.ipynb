{
 "cells": [
  {
   "cell_type": "markdown",
   "metadata": {},
   "source": [
    "**Design Patterns in Python**"
   ]
  },
  {
   "cell_type": "markdown",
   "metadata": {},
   "source": [
    "**Template Pattern**\n",
    "\n",
    "The template pattern is a design pattern which uses a base class as a template for implementation of related but different subclasses. The base class - which is usually an abstract class - defines the overall structure of the process while the sub classes refine and implement the details of certain steps in the process.\n",
    "\n",
    "The base class usually consists of the following:\n",
    "\n",
    "* **template method** - this defines the structure or skeleton of the overall algorithm. It will generally call other methods and should not be overridden by the sub classes.\n",
    "\n",
    "* **abstract methods** - these methods define the customizable part of the algorithm which act as placeholders and **must** be overridden by the sub classes.\n",
    "\n",
    "* **methods common to each sub class** - these methods are implemented in the base class and can be overriden by the sub classes.\n",
    "\n",
    "* **(final) methods common to each sub class** - these methods are implemented in the base class and should **not** be overridden by the sub classes.\n",
    "\n",
    "Below is a simple demonstration of some of these features - there is a **worker** super class defined which has a **daily_routine** method which contains the details of a worker's daily routine. The overall routine is the same for each different type of worker (e.g. banker, firefighter) but the details are different.\n",
    "\n",
    "We will utilise the ABC (Abstract Base Classes) module to implement the infrastructure of an abstract class, as these are not native to python."
   ]
  },
  {
   "cell_type": "code",
   "execution_count": 41,
   "metadata": {},
   "outputs": [],
   "source": [
    "''' import required module ''' \n",
    "from abc import ABC, abstractmethod\n",
    "\n",
    "''' define worker class '''\n",
    "class worker(ABC):\n",
    "\n",
    "    def daily_routine(self):\n",
    "        ''' This defines the structure of a daily routine - NOT to be overriden\n",
    "\n",
    "        The Template Method defines a skeleton of an algorithm in an operation,\n",
    "        and defers some steps to subclasses.\n",
    "        '''\n",
    "        self.get_up()\n",
    "        self.goto_work()\n",
    "        self.work()\n",
    "        self.return_from_work()\n",
    "        self.relax()\n",
    "        self.sleep()\n",
    "\n",
    "    ''' method for getting up - this should NOT be overriden '''\n",
    "    def get_up(self):\n",
    "        print(\"wake up!\")\n",
    "        \n",
    "    ''' method for getting to work '''\n",
    "    @abstractmethod\n",
    "    def goto_work(self):\n",
    "        pass\n",
    "\n",
    "    ''' abstract method for performing work. MUST be overriden '''\n",
    "    @abstractmethod\n",
    "    def work(self):\n",
    "        pass\n",
    "\n",
    "    ''' abstract method for returning home '''\n",
    "    @abstractmethod\n",
    "    def return_from_work(self):\n",
    "        pass\n",
    "        \n",
    "    ''' method for relaxing - this MAY be overriden'''\n",
    "    def relax(self):\n",
    "        print(\"I am relaxing on the couch\")\n",
    "        \n",
    "    ''' method for sleeping - this should NOT be overriden ''' \n",
    "    def sleep(self):\n",
    "        print(\"time for bed!\")\n",
    "\n",
    "''' define firefighter sub class ''' \n",
    "class firefighter(worker):\n",
    "    \n",
    "    def goto_work(self):\n",
    "        print(\"I am taking the fire engine to work\")\n",
    "        \n",
    "    def work(self):\n",
    "        print(\"I am putting out fires at work\")\n",
    "        \n",
    "    def return_from_work(self):\n",
    "        print(\"I am taking the fire engine home from work\")\n",
    "\n",
    "''' define firefighter sub class ''' \n",
    "class banker(worker):\n",
    "    \n",
    "    def goto_work(self):\n",
    "        print(\"My chaffeur drives me to work\")\n",
    "        \n",
    "    def work(self):\n",
    "        print(\"I am sitting at a desk and taking meetings\")\n",
    "        \n",
    "    def return_from_work(self):\n",
    "        print(\"I take my private car home, via the cocktail bar\")\n",
    "        \n",
    "    def relax(self):\n",
    "        print(\"I am relaxing in my cigar lounge\")"
   ]
  },
  {
   "cell_type": "code",
   "execution_count": 42,
   "metadata": {},
   "outputs": [
    {
     "name": "stdout",
     "output_type": "stream",
     "text": [
      "wake up!\n",
      "I am taking the fire engine to work\n",
      "I am putting out fires at work\n",
      "I am taking the fire engine home from work\n",
      "I am relaxing on the couch\n",
      "time for bed!\n",
      "--------\n",
      "wake up!\n",
      "My chaffeur drives me to work\n",
      "I am sitting at a desk and taking meetings\n",
      "I take my private car home, via the cocktail bar\n",
      "I am relaxing in my cigar lounge\n",
      "time for bed!\n"
     ]
    }
   ],
   "source": [
    "peter = firefighter()\n",
    "peter.daily_routine()\n",
    "print('--------')\n",
    "john = banker()\n",
    "john.daily_routine()"
   ]
  }
 ],
 "metadata": {
  "kernelspec": {
   "display_name": "Python 3",
   "language": "python",
   "name": "python3"
  },
  "language_info": {
   "codemirror_mode": {
    "name": "ipython",
    "version": 3
   },
   "file_extension": ".py",
   "mimetype": "text/x-python",
   "name": "python",
   "nbconvert_exporter": "python",
   "pygments_lexer": "ipython3",
   "version": "3.6.7"
  }
 },
 "nbformat": 4,
 "nbformat_minor": 2
}
